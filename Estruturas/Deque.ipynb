{
 "cells": [
  {
   "cell_type": "markdown",
   "metadata": {},
   "source": [
    "### Estrutura de dados Deque ou Deck\n",
    "##### Segue uma filosofia de uma Fila de duas pontas, onde da pra inserir e remover da frente e de trás da fila"
   ]
  },
  {
   "cell_type": "code",
   "execution_count": 17,
   "metadata": {},
   "outputs": [],
   "source": [
    "class Deque:\n",
    "    def __init__(self):\n",
    "        self.deque = []\n",
    "        self.tamanhoDoDeque = 0\n",
    "        \n",
    "    def insereNaFrente(self, elemento):\n",
    "        self.deque.insert(0, elemento)\n",
    "        self.tamanhoDoDeque += 1\n",
    "        \n",
    "    def insereAtras(self, elemento):\n",
    "        self.deque.append(elemento)\n",
    "        self.tamanhoDoDeque += 1\n",
    "        \n",
    "    def removeDaFrente(self):\n",
    "        if not self.dequeEstaVazio():\n",
    "            self.deque.pop(0)\n",
    "            self.tamanhoDoDeque -= 1\n",
    "            \n",
    "    def removeDeTras(self):\n",
    "        if not self.dequeEstaVazio():\n",
    "            self.deque.pop(-1)\n",
    "            self.tamanhoDoDeque -= 1\n",
    "        \n",
    "    def primeiroDoDeque(self):\n",
    "        if not self.dequeEstaVazio():\n",
    "            return self.deque[0]\n",
    "        else:\n",
    "            return None\n",
    "        \n",
    "    def ultimoDoDeque(self):\n",
    "        if not self.dequeEstaVazio():\n",
    "            return self.deque[-1]\n",
    "        else:\n",
    "            return None\n",
    "    \n",
    "    def dequeEstaVazio(self):\n",
    "        if self.tamanhoDoDeque == 0:\n",
    "            return True\n",
    "        else:\n",
    "            return False\n",
    "        \n",
    "    def tamanhoDoDeque(self):\n",
    "        return self.tamanhoDoDeque\n",
    "    \n",
    "    def retornaDeque(self):\n",
    "        return self.deque"
   ]
  },
  {
   "cell_type": "markdown",
   "metadata": {},
   "source": [
    "#### Testes"
   ]
  },
  {
   "cell_type": "code",
   "execution_count": 18,
   "metadata": {},
   "outputs": [
    {
     "name": "stdout",
     "output_type": "stream",
     "text": [
      "True\n",
      "[]\n",
      "False\n",
      "4\n",
      "[4, 3, 2, 1]\n",
      "[4, 3, 2, 1, 20]\n",
      "4\n",
      "20\n",
      "[3, 2, 1, 20]\n",
      "[3, 2, 1]\n"
     ]
    }
   ],
   "source": [
    "deque1 = Deque()\n",
    "\n",
    "print(deque1.dequeEstaVazio())\n",
    "print(deque1.retornaDeque())\n",
    "\n",
    "deque1.insereNaFrente(1)\n",
    "deque1.insereNaFrente(2)\n",
    "deque1.insereNaFrente(3)\n",
    "deque1.insereNaFrente(4)\n",
    "\n",
    "print(deque1.dequeEstaVazio())\n",
    "\n",
    "print(deque1.tamanhoDoDeque)\n",
    "print(deque1.retornaDeque())\n",
    "\n",
    "deque1.insereAtras(20)\n",
    "print(deque1.retornaDeque())\n",
    "print(deque1.primeiroDoDeque())\n",
    "print(deque1.ultimoDoDeque())\n",
    "\n",
    "deque1.removeDaFrente()\n",
    "print(deque1.retornaDeque())\n",
    "\n",
    "deque1.removeDeTras()\n",
    "print(deque1.retornaDeque())"
   ]
  }
 ],
 "metadata": {
  "interpreter": {
   "hash": "245719e4a3746742a3eb5cc503f1cb761a6b2fe0844858a781dda07381e525b6"
  },
  "kernelspec": {
   "display_name": "Python 3.10.2 64-bit",
   "language": "python",
   "name": "python3"
  },
  "language_info": {
   "codemirror_mode": {
    "name": "ipython",
    "version": 3
   },
   "file_extension": ".py",
   "mimetype": "text/x-python",
   "name": "python",
   "nbconvert_exporter": "python",
   "pygments_lexer": "ipython3",
   "version": "3.10.2"
  },
  "orig_nbformat": 4
 },
 "nbformat": 4,
 "nbformat_minor": 2
}
