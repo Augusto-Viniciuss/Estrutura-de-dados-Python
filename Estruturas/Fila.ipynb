{
 "cells": [
  {
   "cell_type": "markdown",
   "metadata": {},
   "source": [
    "### Estrutura de dados Fila\n",
    "##### Segue a filosofia FIFO \"First in first out\""
   ]
  },
  {
   "cell_type": "code",
   "execution_count": 9,
   "metadata": {},
   "outputs": [],
   "source": [
    "class Fila:\n",
    "    def __init__(self):\n",
    "        self.fila = []\n",
    "        self.tamanhoDaFila = 0\n",
    "        \n",
    "    def insereNaFila(self, elemento):\n",
    "        self.fila.append(elemento)\n",
    "        self.tamanhoDaFila += 1\n",
    "    \n",
    "    def removeDaFila(self):\n",
    "        if not self.filaEstaVazia():\n",
    "            self.fila.pop(0)\n",
    "            self.tamanhoDaFila -= 1\n",
    "            \n",
    "    def primeiroDaFila(self):\n",
    "        if not self.filaEstaVazia():\n",
    "            return self.fila[0]\n",
    "        else:\n",
    "            None\n",
    "        \n",
    "    def ultimoDaFila(self):\n",
    "        if not self.filaEstaVazia():\n",
    "            return self.fila[-1]\n",
    "        else:\n",
    "            return None    \n",
    "    \n",
    "    def filaEstaVazia(self):\n",
    "        if self.tamanhoDaFila == 0:\n",
    "            return True\n",
    "        else:\n",
    "            return False\n",
    "        \n",
    "    def tamanhoDaFila(self):\n",
    "        return self.tamanhoDaFila\n",
    "    \n",
    "    def retornaFila(self):\n",
    "        return self.fila"
   ]
  },
  {
   "cell_type": "markdown",
   "metadata": {},
   "source": [
    "#### Testes"
   ]
  },
  {
   "cell_type": "code",
   "execution_count": 10,
   "metadata": {},
   "outputs": [
    {
     "name": "stdout",
     "output_type": "stream",
     "text": [
      "True\n",
      "False\n",
      "4\n",
      "[1, 2, 3, 4]\n",
      "1\n",
      "4\n",
      "3\n",
      "[2, 3, 4]\n",
      "2\n",
      "4\n"
     ]
    }
   ],
   "source": [
    "fila1 = Fila()\n",
    "\n",
    "print(fila1.filaEstaVazia())\n",
    "\n",
    "fila1.insereNaFila(1)\n",
    "fila1.insereNaFila(2)\n",
    "fila1.insereNaFila(3)\n",
    "fila1.insereNaFila(4)\n",
    "\n",
    "print(fila1.filaEstaVazia())\n",
    "\n",
    "print(fila1.tamanhoDaFila)\n",
    "print(fila1.retornaFila())\n",
    "print(fila1.primeiroDaFila())\n",
    "print(fila1.ultimoDaFila())\n",
    "\n",
    "fila1.removeDaFila()\n",
    "print(fila1.tamanhoDaFila)\n",
    "print(fila1.retornaFila())\n",
    "print(fila1.primeiroDaFila())\n",
    "print(fila1.ultimoDaFila())"
   ]
  }
 ],
 "metadata": {
  "interpreter": {
   "hash": "245719e4a3746742a3eb5cc503f1cb761a6b2fe0844858a781dda07381e525b6"
  },
  "kernelspec": {
   "display_name": "Python 3.10.2 64-bit",
   "language": "python",
   "name": "python3"
  },
  "language_info": {
   "codemirror_mode": {
    "name": "ipython",
    "version": 3
   },
   "file_extension": ".py",
   "mimetype": "text/x-python",
   "name": "python",
   "nbconvert_exporter": "python",
   "pygments_lexer": "ipython3",
   "version": "3.10.2"
  },
  "orig_nbformat": 4
 },
 "nbformat": 4,
 "nbformat_minor": 2
}
