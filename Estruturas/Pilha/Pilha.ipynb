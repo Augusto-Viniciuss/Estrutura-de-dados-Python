{
 "cells": [
  {
   "cell_type": "markdown",
   "metadata": {},
   "source": [
    "### Estrutura de dados Pilha \n",
    "##### Segue a filosofia FILO \"first in last out\""
   ]
  },
  {
   "cell_type": "code",
   "execution_count": 43,
   "metadata": {},
   "outputs": [],
   "source": [
    "class Pilha:\n",
    "    def __init__(self):\n",
    "        self.pilha = []\n",
    "        self.tamanhoDaPilha = 0\n",
    "    \n",
    "    def insereNaPilha(self, elemento):\n",
    "        self.pilha.append(elemento)\n",
    "        self.tamanhoDaPilha += 1\n",
    "        \n",
    "    def removeDaPilha(self):\n",
    "        if not self.pilhaEstaVazia():\n",
    "            self.pilha.pop(-1)\n",
    "            self.tamanhoDaPilha -= 1\n",
    "            \n",
    "    def topoDaPilha(self):\n",
    "        if not self.pilhaEstaVazia():\n",
    "            return self.pilha[-1]\n",
    "        else:\n",
    "            return None\n",
    "        \n",
    "    def pilhaEstaVazia(self):\n",
    "        if self.tamanhoDaPilha == 0:\n",
    "            return True\n",
    "        else:\n",
    "            return False\n",
    "    \n",
    "    def tamanhoDaPilha(self):\n",
    "        return self.tamanhoDaPilha\n",
    "    \n",
    "    def retornaPilha(self):\n",
    "        return self.pilha\n",
    "    "
   ]
  },
  {
   "cell_type": "markdown",
   "metadata": {},
   "source": [
    "#### Testes"
   ]
  },
  {
   "cell_type": "code",
   "execution_count": 44,
   "metadata": {},
   "outputs": [
    {
     "name": "stdout",
     "output_type": "stream",
     "text": [
      "None\n",
      "3\n",
      "[1, 2, 3]\n",
      "2\n",
      "[1, 2]\n",
      "[7, 6]\n",
      "2\n",
      "[7]\n"
     ]
    }
   ],
   "source": [
    "pilha1 = Pilha()\n",
    "pilha2 = Pilha()\n",
    "\n",
    "topoDaPilha1 = pilha1.topoDaPilha()\n",
    "print(topoDaPilha1)\n",
    "\n",
    "pilha1.insereNaPilha(1)\n",
    "pilha1.insereNaPilha(2)\n",
    "pilha1.insereNaPilha(3)\n",
    "pilha2.insereNaPilha(7)\n",
    "pilha2.insereNaPilha(6)\n",
    "\n",
    "print(pilha1.tamanhoDaPilha)\n",
    "print(pilha1.retornaPilha())\n",
    "\n",
    "pilha1.removeDaPilha()\n",
    "print(pilha1.tamanhoDaPilha)\n",
    "print(pilha1.retornaPilha())\n",
    "\n",
    "\n",
    "print(pilha2.retornaPilha())\n",
    "print(pilha2.tamanhoDaPilha)\n",
    "pilha2.removeDaPilha()\n",
    "print(pilha2.retornaPilha())\n"
   ]
  }
 ],
 "metadata": {
  "interpreter": {
   "hash": "245719e4a3746742a3eb5cc503f1cb761a6b2fe0844858a781dda07381e525b6"
  },
  "kernelspec": {
   "display_name": "Python 3.10.2 64-bit",
   "language": "python",
   "name": "python3"
  },
  "language_info": {
   "codemirror_mode": {
    "name": "ipython",
    "version": 3
   },
   "file_extension": ".py",
   "mimetype": "text/x-python",
   "name": "python",
   "nbconvert_exporter": "python",
   "pygments_lexer": "ipython3",
   "version": "3.10.2"
  },
  "orig_nbformat": 4
 },
 "nbformat": 4,
 "nbformat_minor": 2
}
